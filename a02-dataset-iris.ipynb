{
 "cells": [
  {
   "cell_type": "code",
   "execution_count": 2,
   "metadata": {
    "scrolled": false
   },
   "outputs": [
    {
     "name": "stdout",
     "output_type": "stream",
     "text": [
      "(150, 5)\n"
     ]
    },
    {
     "name": "stderr",
     "output_type": "stream",
     "text": [
      "/Users/bishwash.aryal/.pyenv/versions/3.6.7/lib/python3.6/site-packages/sklearn/datasets/openml.py:308: UserWarning: Multiple active versions of the dataset matching the name iris exist. Versions may be fundamentally different, returning version 1.\n",
      "  \" {version}.\".format(name=name, version=res[0]['version']))\n"
     ]
    }
   ],
   "source": [
    "import pandas as pd\n",
    "import numpy as np \n",
    "import matplotlib.pyplot as plt\n",
    "%matplotlib notebook\n",
    "import seaborn as sns\n",
    "from sklearn.utils import resample\n",
    "from sklearn.datasets import fetch_openml\n",
    "from sklearn.tree import DecisionTreeClassifier\n",
    "from sklearn.neural_network import MLPClassifier\n",
    "from sklearn.ensemble import AdaBoostClassifier\n",
    "from sklearn.svm import SVC\n",
    "from sklearn.neighbors import KNeighborsClassifier\n",
    "from sklearn.model_selection import cross_val_score\n",
    "from sklearn.model_selection import StratifiedShuffleSplit\n",
    "from sklearn.metrics import accuracy_score, classification_report\n",
    "\n",
    "\n",
    "# df = pd.read_csv('./data/heart.csv')\n",
    "# df = df.dropna(axis=1)\n",
    "\n",
    "dataset = fetch_openml(name=\"iris\")\n",
    "df = pd.DataFrame(data=np.c_[dataset['data'], dataset['target']],\n",
    "                            columns=dataset['feature_names'] + ['target'])\n",
    "print(df.shape)\n",
    "df.head()\n",
    "df = df.dropna()\n",
    "\n",
    "def warn(*args, **kwargs):\n",
    "    pass\n",
    "import warnings\n",
    "warnings.warn = warn\n"
   ]
  },
  {
   "cell_type": "code",
   "execution_count": 3,
   "metadata": {},
   "outputs": [
    {
     "data": {
      "text/plain": [
       "<matplotlib.axes._subplots.AxesSubplot at 0x1061f5e10>"
      ]
     },
     "execution_count": 3,
     "metadata": {},
     "output_type": "execute_result"
    },
    {
     "data": {
      "image/png": "[encoded data removed]",
      "text/plain": [
       "<Figure size 432x288 with 1 Axes>"
      ]
     },
     "metadata": {
      "needs_background": "light"
     },
     "output_type": "display_data"
    }
   ],
   "source": [
    "# df.target = pd.to_numeric(df.target, errors='coerce')\n",
    "# df[\"target\"] = df.target.map(\"{:02}\".format)\n",
    "sns.countplot(x=\"target\", data=df)"
   ]
  },
  {
   "cell_type": "code",
   "execution_count": 4,
   "metadata": {},
   "outputs": [
    {
     "name": "stdout",
     "output_type": "stream",
     "text": [
      "{'Iris-setosa': 40, 'Iris-versicolor': 40, 'Iris-virginica': 40}\n"
     ]
    }
   ],
   "source": [
    "from sklearn.model_selection import train_test_split\n",
    "X = df.drop('target', axis=1)\n",
    "y = df['target']\n",
    "X_train, X_test, y_train, y_test = train_test_split(X, y, test_size=0.2, random_state=111, stratify=y)\n",
    "\n",
    "\n",
    "def count_class(y):\n",
    "    unique, counts = np.unique(y, return_counts=True)\n",
    "    uqc = dict(zip(unique, counts))\n",
    "    print(uqc)\n",
    "\n",
    "\n",
    "count_class(y_train)\n"
   ]
  },
  {
   "cell_type": "code",
   "execution_count": 5,
   "metadata": {},
   "outputs": [],
   "source": [
    "#Source: https://scikit-learn.org/stable/auto_examples/model_selection/plot_learning_curve.html\n",
    "from sklearn.model_selection import learning_curve\n",
    "from sklearn.model_selection import train_test_split\n",
    "from sklearn.model_selection import StratifiedShuffleSplit\n",
    "from sklearn.model_selection import GridSearchCV\n",
    "\n",
    "def warn(*args, **kwargs):\n",
    "    pass\n",
    "import warnings\n",
    "warnings.warn = warn\n",
    "\n",
    "def plot_learning_curve(estimator, title, X, y, scoring=\"accuracy\"):\n",
    "    \n",
    "    cv=StratifiedShuffleSplit(n_splits=10, test_size=0.2, random_state=0)\n",
    "    n_jobs=None\n",
    "    train_sizes=np.linspace(.1, 1.0, 20)\n",
    "    \n",
    "    plt.figure()\n",
    "    plt.title(title)\n",
    "    plt.xlabel(\"Training Size\")\n",
    "    plt.ylabel(scoring)\n",
    "    train_sizes, train_scores, test_scores = learning_curve(\n",
    "        estimator, X, y, cv=cv, n_jobs=n_jobs, train_sizes=train_sizes, scoring=scoring)\n",
    "    train_scores_mean = np.mean(train_scores, axis=1)\n",
    "    train_scores_std = np.std(train_scores, axis=1)\n",
    "    test_scores_mean = np.mean(test_scores, axis=1)\n",
    "    test_scores_std = np.std(test_scores, axis=1)\n",
    "    plt.grid()\n",
    "\n",
    "    plt.fill_between(train_sizes, train_scores_mean - train_scores_std,\n",
    "                     train_scores_mean + train_scores_std, alpha=0.1,\n",
    "                     color=\"r\")\n",
    "    plt.fill_between(train_sizes, test_scores_mean - test_scores_std,\n",
    "                     test_scores_mean + test_scores_std, alpha=0.1, color=\"g\")\n",
    "    plt.plot(train_sizes, train_scores_mean, 'o-', color=\"r\",\n",
    "             label=\"Training score\")\n",
    "    plt.plot(train_sizes, test_scores_mean, 'o-', color=\"g\",\n",
    "             label=\"Cross-Validation score\")\n",
    "\n",
    "    plt.legend(loc=\"best\")\n",
    "    return plt\n",
    "\n",
    "def plot_model_complexity_curve(estimator, title, X, y, param_grid, scoring=\"accuracy\"):\n",
    "    param = list(param_grid.keys())[0]\n",
    "\n",
    "    cv=StratifiedShuffleSplit(n_splits=10, test_size=0.2, random_state=0)\n",
    "    \n",
    "    gs = GridSearchCV(estimator,\n",
    "                  scoring=scoring,\n",
    "                  cv=cv,\n",
    "                  param_grid=param_grid)\n",
    "    gs.fit(X, y)\n",
    "    results = gs.cv_results_\n",
    "\n",
    "    train_scores_mean = results[f\"mean_train_score\"]\n",
    "    test_scores_mean = results[f\"mean_test_score\"]\n",
    "    \n",
    "\n",
    "    x_axis = results[f\"param_{param}\"].data\n",
    "    new_axis = []\n",
    "    for p in x_axis:\n",
    "        if isinstance(p, tuple):\n",
    "            j = '_'.join([str(x) for x in p])\n",
    "            new_axis.append(j)\n",
    "    if new_axis:\n",
    "        x_axis = np.array(new_axis)\n",
    "            \n",
    "    plt.figure()\n",
    "    plt.title(title)\n",
    "    plt.xlabel(f\"Model Complexity ({param})\")\n",
    "    plt.ylabel(scoring)\n",
    "    plt.grid()\n",
    "    plt.plot(x_axis, train_scores_mean, 'o-', color=\"r\",\n",
    "             label=\"Training score\")\n",
    "    plt.plot(x_axis, test_scores_mean, 'o-', color=\"g\",\n",
    "             label=\"Cross-Validation score\")\n",
    "    plt.legend(loc=\"best\")\n",
    "    return plt  \n",
    "\n",
    "def search_gridcv(estimator, X, y, param_grid, scoring=\"accuracy\"):\n",
    "    cv=StratifiedShuffleSplit(n_splits=10, test_size=0.2, random_state=0)\n",
    "    gs = GridSearchCV(estimator,\n",
    "                  scoring=scoring,\n",
    "                  cv=cv,\n",
    "                  param_grid=param_grid)\n",
    "    gs.fit(X, y)\n",
    "    results = gs.cv_results_\n",
    "    print(gs.best_estimator_)\n",
    "    print(gs.best_score_)\n",
    "    print(gs.best_params_)\n",
    "    \n",
    "def boxplot_cv_scores(title, models, X, y, scoring=\"accuracy\"):\n",
    "    results = []\n",
    "    names = []\n",
    "    cv=StratifiedShuffleSplit(n_splits=10, test_size=0.2, random_state=0)\n",
    "    for name, estimator in models:\n",
    "        _results = cross_val_score(estimator, X, y, cv=cv, scoring=scoring)\n",
    "        results.append(_results)\n",
    "        names.append(name)\n",
    "        print(f\"{name}: {_results.mean()} ({_results.std()})\")\n",
    "\n",
    "    # boxplot for algorithm comparision\n",
    "    fig = plt.figure()\n",
    "    fig.suptitle(title)\n",
    "    ax = fig.add_subplot(111)\n",
    "    plt.boxplot(results)\n",
    "    plt.ylabel(\"Cross-Validation Score\")\n",
    "    ax.set_ylim([0,1])\n",
    "    ax.set_xticklabels(names)\n",
    "    plt.show()\n",
    "    \n",
    "def accuracy_score_report(models, X_train, y_train, X_test, y_test, scoring=\"accuracy\"):\n",
    "    for name, estimator in models:\n",
    "        clf = estimator.fit(X_train, y_train)\n",
    "        y_pred = clf.predict(X_test)\n",
    "        score = accuracy_score(y_test, y_pred)\n",
    "#         report = classification_report(y_test, y_pred, target_names=[\"\", \"p\"])\n",
    "        print(f\"{name}: {score}\")\n"
   ]
  },
  {
   "cell_type": "code",
   "execution_count": 6,
   "metadata": {},
   "outputs": [
    {
     "name": "stdout",
     "output_type": "stream",
     "text": [
      "DecisionTree: 1.0\n",
      "MLP: 1.0\n",
      "Boosting: 1.0\n",
      "SVM: 1.0\n",
      "KNN: 1.0\n",
      "DecisionTree: 0.9533333333333334 (0.030550504633038926)\n",
      "MLP: 0.9866666666666667 (0.016329931618554516)\n",
      "Boosting: 0.96 (0.02905932629027115)\n",
      "SVM: 0.9766666666666668 (0.029999999999999992)\n",
      "KNN: 0.9733333333333334 (0.029059326290271147)\n"
     ]
    },
    {
     "data": {
      "image/png": "[encoded data removed]",
      "text/plain": [
       "<Figure size 432x288 with 1 Axes>"
      ]
     },
     "metadata": {
      "needs_background": "light"
     },
     "output_type": "display_data"
    }
   ],
   "source": [
    "scoring='accuracy'\n",
    "models = [\n",
    "    ('DecisionTree', DecisionTreeClassifier()),\n",
    "    (\"MLP\", MLPClassifier()),\n",
    "    (\"Boosting\", AdaBoostClassifier(base_estimator=DecisionTreeClassifier())),\n",
    "    (\"SVM\", SVC()),\n",
    "    (\"KNN\", KNeighborsClassifier())\n",
    "]\n",
    "\n",
    "accuracy_score_report(models, X_train, y_train, X_test, y_test, scoring=scoring)\n",
    "\n",
    "boxplot_cv_scores(\"Algorithm Comparision Pre-Tuning\",models, X, y, scoring=scoring)"
   ]
  },
  {
   "cell_type": "code",
   "execution_count": 8,
   "metadata": {},
   "outputs": [
    {
     "name": "stdout",
     "output_type": "stream",
     "text": [
      "DecisionTree: 0.9666666666666667\n",
      "MLP: 1.0\n",
      "Boosting: 1.0\n",
      "SVM: 1.0\n",
      "KNN: 1.0\n",
      "DecisionTree: 0.9466666666666667 (0.030550504633038926)\n",
      "MLP: 0.9800000000000001 (0.022110831935702662)\n",
      "Boosting: 0.96 (0.02494438257849294)\n",
      "SVM: 0.9200000000000002 (0.03399346342395189)\n",
      "KNN: 0.97 (0.03480102169636849)\n"
     ]
    },
    {
     "data": {
      "image/png": "[encoded data removed]",
      "text/plain": [
       "<Figure size 432x288 with 1 Axes>"
      ]
     },
     "metadata": {
      "needs_background": "light"
     },
     "output_type": "display_data"
    }
   ],
   "source": [
    "models = [\n",
    "    ('DecisionTree', DecisionTreeClassifier(max_depth=2)),\n",
    "    (\"MLP\", MLPClassifier(activation=\"relu\", hidden_layer_sizes=(30,30), learning_rate=\"adaptive\")),\n",
    "    (\"Boosting\", AdaBoostClassifier(base_estimator=DecisionTreeClassifier(max_depth=4, max_leaf_nodes=9), n_estimators=20, learning_rate=1)),\n",
    "    (\"SVM\", SVC(gamma=0.08, kernel=\"rbf\", C=0.1)),\n",
    "    (\"KNN\", KNeighborsClassifier(n_neighbors=18))\n",
    "]\n",
    "\n",
    "accuracy_score_report(models, X_train, y_train, X_test, y_test, scoring=scoring)\n",
    "\n",
    "boxplot_cv_scores(\"Algorithm Comparision Post-Tuning\", models, X, y, scoring=scoring)"
   ]
  },
  {
   "cell_type": "code",
   "execution_count": null,
   "metadata": {},
   "outputs": [],
   "source": []
  }
 ],
 "metadata": {
  "kernelspec": {
   "display_name": "Python 3",
   "language": "python",
   "name": "python3"
  },
  "language_info": {
   "codemirror_mode": {
    "name": "ipython",
    "version": 3
   },
   "file_extension": ".py",
   "mimetype": "text/x-python",
   "name": "python",
   "nbconvert_exporter": "python",
   "pygments_lexer": "ipython3",
   "version": "3.6.7"
  }
 },
 "nbformat": 4,
 "nbformat_minor": 2
}
